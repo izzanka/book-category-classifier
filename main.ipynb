{
 "cells": [
  {
   "cell_type": "code",
   "execution_count": 77,
   "id": "b1335e78-9e3d-4809-9a24-afb806126706",
   "metadata": {},
   "outputs": [],
   "source": [
    "import numpy as np\n",
    "import pandas as pd\n",
    "from sklearn.preprocessing import LabelEncoder\n",
    "from nltk.corpus import stopwords\n",
    "from sklearn.feature_extraction.text import TfidfVectorizer\n",
    "from sklearn.metrics import classification_report, accuracy_score\n",
    "from sklearn.model_selection import train_test_split\n",
    "from joblib import dump, load\n",
    "from sklearn.svm import SVC\n",
    "from sklearn.linear_model import SGDClassifier\n",
    "from sklearn.naive_bayes import ComplementNB\n",
    "from sklearn.ensemble import GradientBoostingClassifier\n",
    "import matplotlib.pyplot as plt\n",
    "import matplotlib.ticker as mtick"
   ]
  },
  {
   "cell_type": "code",
   "execution_count": 49,
   "id": "f74d91cc-34c3-4713-b427-6c3cc5af7478",
   "metadata": {},
   "outputs": [
    {
     "name": "stdout",
     "output_type": "stream",
     "text": [
      "                                                   Title            Category\n",
      "0      The MIDI Manual: A Practical Guide to MIDI in ...  Arts & Photography\n",
      "1      Splash 16: Exploring Texture (Splash: The Best...  Arts & Photography\n",
      "2      Picture Perfect Posing: Practicing the Art of ...  Arts & Photography\n",
      "3      Creative Haven Modern Tattoo Designs Coloring ...  Arts & Photography\n",
      "4      DÃ­aita: The Rules of Health in the Manuscript...  Arts & Photography\n",
      "...                                                  ...                 ...\n",
      "31535  Combinatorics & Probability (Veritas Prep GMAT...    Test Preparation\n",
      "31536  US Citizenship test 2015 Civics Flash Cards fo...    Test Preparation\n",
      "31537  TCOLE Test Flashcard Study System: TCOLE Exam ...    Test Preparation\n",
      "31538  The PowerScore LSAT Logic Games Bible Flashcar...    Test Preparation\n",
      "31539  Office Technician(Passbooks) (Career Examinati...    Test Preparation\n",
      "\n",
      "[16600 rows x 2 columns]\n"
     ]
    }
   ],
   "source": [
    "data = pd.read_csv('book-list.csv')\n",
    "data = data[~data['Category'].isin(['Health, Fitness & Dieting', 'Medical Books',\n",
    "                                    'Travel', 'Biographies & Memoirs', 'Crafts, Hobbies & Home',\n",
    "                                    'Law', 'Parenting & Relationships', 'Religion & Spirituality',\n",
    "                                    'Self-Help', 'Sports & Outdoors'])]\n",
    "print(data)"
   ]
  },
  {
   "cell_type": "code",
   "execution_count": 50,
   "id": "22be1cf1-d583-4dd1-a018-b46a1f9df46a",
   "metadata": {},
   "outputs": [],
   "source": [
    "title = pd.DataFrame(data['Title'])\n",
    "category = pd.DataFrame(data['Category'])"
   ]
  },
  {
   "cell_type": "code",
   "execution_count": 51,
   "id": "11fd665c-663f-42de-8f19-871c723aa783",
   "metadata": {},
   "outputs": [
    {
     "name": "stdout",
     "output_type": "stream",
     "text": [
      "16600\n",
      "16600\n"
     ]
    }
   ],
   "source": [
    "print(len(title))\n",
    "print(len(category))"
   ]
  },
  {
   "cell_type": "code",
   "execution_count": 52,
   "id": "43a0c611-f286-4cc4-b44f-a5ef1fd7514f",
   "metadata": {},
   "outputs": [
    {
     "data": {
      "text/plain": [
       "Category\n",
       "Arts & Photography              1660\n",
       "Business & Money                1660\n",
       "Computers & Technology          1660\n",
       "Education & Teaching            1660\n",
       "Engineering & Transportation    1660\n",
       "History                         1660\n",
       "Politics & Social Sciences      1660\n",
       "Reference                       1660\n",
       "Science & Math                  1660\n",
       "Test Preparation                1660\n",
       "Name: Title, dtype: int64"
      ]
     },
     "execution_count": 52,
     "metadata": {},
     "output_type": "execute_result"
    }
   ],
   "source": [
    "data.groupby('Category').Title.count()"
   ]
  },
  {
   "cell_type": "code",
   "execution_count": 53,
   "id": "8f67a216-8173-44a8-9127-384a3c507400",
   "metadata": {},
   "outputs": [],
   "source": [
    "feat = ['Category']\n",
    "le = LabelEncoder()\n",
    "for x in feat:\n",
    "    le.fit(list(category[x].values))\n",
    "    category[x] = le.transform(list(category[x]))"
   ]
  },
  {
   "cell_type": "code",
   "execution_count": 54,
   "id": "bb79f2c2-6156-4b99-853b-08c696a60aad",
   "metadata": {},
   "outputs": [
    {
     "data": {
      "text/plain": [
       "array([0, 1, 2, 3, 4, 5, 6, 7, 8, 9])"
      ]
     },
     "execution_count": 54,
     "metadata": {},
     "output_type": "execute_result"
    }
   ],
   "source": [
    "category['Category'].unique()"
   ]
  },
  {
   "cell_type": "code",
   "execution_count": 55,
   "id": "2c1700da-aca3-4b61-bcef-c042579339b6",
   "metadata": {},
   "outputs": [
    {
     "data": {
      "text/plain": [
       "'Arts & Photography'"
      ]
     },
     "execution_count": 55,
     "metadata": {},
     "output_type": "execute_result"
    }
   ],
   "source": [
    "le.inverse_transform([0])[0]"
   ]
  },
  {
   "cell_type": "code",
   "execution_count": 56,
   "id": "1f1f6173-5d8f-4f54-9c2d-59735066aed9",
   "metadata": {},
   "outputs": [
    {
     "name": "stdout",
     "output_type": "stream",
     "text": [
      "(16600, 15564)\n"
     ]
    }
   ],
   "source": [
    "vectorizer = TfidfVectorizer(stop_words='english', analyzer='word', strip_accents='unicode')\n",
    "vectors = vectorizer.fit_transform(data['Title'])\n",
    "print(vectors.shape)"
   ]
  },
  {
   "cell_type": "code",
   "execution_count": 57,
   "id": "2486311b-cb95-44f3-8852-b36b31f19c24",
   "metadata": {},
   "outputs": [],
   "source": [
    "X_train, X_test, y_train, y_test = train_test_split(vectors, category['Category'], test_size=0.2, train_size=0.8, random_state=0, stratify=category['Category'])"
   ]
  },
  {
   "cell_type": "code",
   "execution_count": 58,
   "id": "741b3315-db37-4f85-847f-612ba8b1d3f0",
   "metadata": {},
   "outputs": [
    {
     "name": "stdout",
     "output_type": "stream",
     "text": [
      "(13280, 15564)\n",
      "(13280,)\n",
      "(3320, 15564)\n",
      "(3320,)\n"
     ]
    }
   ],
   "source": [
    "print(X_train.shape)\n",
    "print(y_train.shape)\n",
    "print(X_test.shape)\n",
    "print(y_test.shape)"
   ]
  },
  {
   "cell_type": "code",
   "execution_count": 59,
   "id": "4a5d1724-cb17-4288-bf62-7f99ef2ce9c3",
   "metadata": {},
   "outputs": [
    {
     "name": "stdout",
     "output_type": "stream",
     "text": [
      "Classification Report:\n",
      "               precision    recall  f1-score   support\n",
      "\n",
      "           0       0.67      0.76      0.71       332\n",
      "           1       0.68      0.70      0.69       332\n",
      "           2       0.84      0.79      0.81       332\n",
      "           3       0.82      0.82      0.82       332\n",
      "           4       0.79      0.70      0.74       332\n",
      "           5       0.72      0.79      0.75       332\n",
      "           6       0.65      0.68      0.66       332\n",
      "           7       0.79      0.74      0.76       332\n",
      "           8       0.74      0.71      0.73       332\n",
      "           9       0.89      0.86      0.87       332\n",
      "\n",
      "    accuracy                           0.75      3320\n",
      "   macro avg       0.76      0.75      0.76      3320\n",
      "weighted avg       0.76      0.75      0.76      3320\n",
      "\n",
      "CPU times: total: 17 s\n",
      "Wall time: 17 s\n"
     ]
    }
   ],
   "source": [
    "%%time\n",
    "\n",
    "svc = SVC(kernel='linear')\n",
    "svc.fit(X_train, y_train)\n",
    "svc_pred = svc.predict(X_test)\n",
    "print(\"Classification Report:\\n\", classification_report(y_test, svc_pred))"
   ]
  },
  {
   "cell_type": "code",
   "execution_count": 60,
   "id": "9bffb4a5-7b85-4950-b0dd-040428323c0d",
   "metadata": {},
   "outputs": [
    {
     "name": "stdout",
     "output_type": "stream",
     "text": [
      "Classification Report:\n",
      "               precision    recall  f1-score   support\n",
      "\n",
      "           0       0.73      0.73      0.73       332\n",
      "           1       0.70      0.68      0.69       332\n",
      "           2       0.80      0.84      0.82       332\n",
      "           3       0.77      0.83      0.80       332\n",
      "           4       0.77      0.71      0.74       332\n",
      "           5       0.70      0.82      0.75       332\n",
      "           6       0.73      0.66      0.69       332\n",
      "           7       0.77      0.74      0.76       332\n",
      "           8       0.75      0.69      0.72       332\n",
      "           9       0.89      0.88      0.88       332\n",
      "\n",
      "    accuracy                           0.76      3320\n",
      "   macro avg       0.76      0.76      0.76      3320\n",
      "weighted avg       0.76      0.76      0.76      3320\n",
      "\n",
      "CPU times: total: 188 ms\n",
      "Wall time: 208 ms\n"
     ]
    }
   ],
   "source": [
    "%%time\n",
    "\n",
    "sgd = SGDClassifier(loss='hinge')\n",
    "sgd.fit(X_train, y_train)\n",
    "sgd_pred = sgd.predict(X_test)\n",
    "print(\"Classification Report:\\n\", classification_report(y_test, sgd_pred))"
   ]
  },
  {
   "cell_type": "code",
   "execution_count": 61,
   "id": "1e015978-4341-4e75-be99-f9ccb9ef26ac",
   "metadata": {},
   "outputs": [
    {
     "name": "stdout",
     "output_type": "stream",
     "text": [
      "Classification Report:\n",
      "               precision    recall  f1-score   support\n",
      "\n",
      "           0       0.72      0.67      0.69       332\n",
      "           1       0.67      0.64      0.66       332\n",
      "           2       0.78      0.83      0.80       332\n",
      "           3       0.73      0.84      0.78       332\n",
      "           4       0.76      0.70      0.73       332\n",
      "           5       0.69      0.86      0.76       332\n",
      "           6       0.74      0.64      0.69       332\n",
      "           7       0.76      0.70      0.73       332\n",
      "           8       0.78      0.65      0.71       332\n",
      "           9       0.81      0.90      0.85       332\n",
      "\n",
      "    accuracy                           0.74      3320\n",
      "   macro avg       0.74      0.74      0.74      3320\n",
      "weighted avg       0.74      0.74      0.74      3320\n",
      "\n",
      "CPU times: total: 31.2 ms\n",
      "Wall time: 37.2 ms\n"
     ]
    }
   ],
   "source": [
    "%%time\n",
    "\n",
    "cnb = ComplementNB()\n",
    "cnb.fit(X_train, y_train)\n",
    "cnb_pred = cnb.predict(X_test)\n",
    "print(\"Classification Report:\\n\", classification_report(y_test, cnb_pred))"
   ]
  },
  {
   "cell_type": "code",
   "execution_count": 63,
   "id": "ae9f3ea6-0aa1-460b-97e4-25f6fca3e054",
   "metadata": {},
   "outputs": [
    {
     "name": "stdout",
     "output_type": "stream",
     "text": [
      "Classification Report:\n",
      "               precision    recall  f1-score   support\n",
      "\n",
      "           0       0.77      0.52      0.62       332\n",
      "           1       0.71      0.55      0.62       332\n",
      "           2       0.81      0.68      0.74       332\n",
      "           3       0.75      0.73      0.74       332\n",
      "           4       0.74      0.55      0.63       332\n",
      "           5       0.71      0.63      0.67       332\n",
      "           6       0.29      0.77      0.42       332\n",
      "           7       0.73      0.62      0.67       332\n",
      "           8       0.72      0.53      0.61       332\n",
      "           9       0.90      0.81      0.86       332\n",
      "\n",
      "    accuracy                           0.64      3320\n",
      "   macro avg       0.71      0.64      0.66      3320\n",
      "weighted avg       0.71      0.64      0.66      3320\n",
      "\n",
      "CPU times: total: 4min 12s\n",
      "Wall time: 4min 13s\n"
     ]
    }
   ],
   "source": [
    "%%time\n",
    "\n",
    "gbc = GradientBoostingClassifier()\n",
    "gbc.fit(X_train, y_train)\n",
    "gbc_pred = gbc.predict(X_test)\n",
    "print(\"Classification Report:\\n\", classification_report(y_test, gbc_pred))"
   ]
  },
  {
   "cell_type": "code",
   "execution_count": 70,
   "id": "93bf7789-a0d8-4379-bb02-52ef84a1a3d4",
   "metadata": {},
   "outputs": [
    {
     "name": "stdout",
     "output_type": "stream",
     "text": [
      "0.76\n",
      "0.75\n",
      "0.74\n",
      "0.64\n"
     ]
    }
   ],
   "source": [
    "sgd_accuracy = round(accuracy_score(y_test, sgd_pred),2)\n",
    "svc_accuracy = round(accuracy_score(y_test, svc_pred),2)\n",
    "cnb_accuracy = round(accuracy_score(y_test, cnb_pred),2)\n",
    "gbc_accuracy = round(accuracy_score(y_test, gbc_pred),2)\n",
    "\n",
    "print(sgd_accuracy)\n",
    "print(svc_accuracy)\n",
    "print(cnb_accuracy)\n",
    "print(gbc_accuracy)"
   ]
  },
  {
   "cell_type": "code",
   "execution_count": 72,
   "id": "c96ceee3-31dc-472c-8681-1073d10b4a46",
   "metadata": {},
   "outputs": [],
   "source": [
    "models = ['SGD', 'SVC', 'CNB', 'GBC']\n",
    "scores = [sgd_accuracy, svc_accuracy, cnb_accuracy, gbc_accuracy]"
   ]
  },
  {
   "cell_type": "code",
   "execution_count": 84,
   "id": "68034992-4962-4274-8859-7b727b20caf5",
   "metadata": {},
   "outputs": [
    {
     "data": {
      "image/png": "[encoded data removed]",
      "text/plain": [
       "<Figure size 800x600 with 1 Axes>"
      ]
     },
     "metadata": {},
     "output_type": "display_data"
    }
   ],
   "source": [
    "plt.figure(figsize=(8, 6))\n",
    "bars = plt.bar(models, scores, color='skyblue')\n",
    "plt.title('Accuracy Scores of Four Models')\n",
    "plt.xlabel('Models')\n",
    "plt.ylabel('Accuracy Score')\n",
    "plt.ylim(0, 1)\n",
    "plt.gca().yaxis.set_major_formatter(mtick.PercentFormatter(xmax=1))\n",
    "for bar, score in zip(bars, scores):\n",
    "    plt.text(bar.get_x() + bar.get_width() / 2, bar.get_height(), f'{score:.2f}', \n",
    "             ha='center', va='bottom', color='black')\n",
    "plt.grid(axis='y', linestyle='--', alpha=0.7)\n",
    "plt.show()"
   ]
  },
  {
   "cell_type": "code",
   "execution_count": 85,
   "id": "ce2ba122-c3dc-4897-acc4-ca16ba075a94",
   "metadata": {},
   "outputs": [],
   "source": [
    "text = ['Technical Core Skill : Modul I (Workshop Tools)']\n",
    "text[0] = text[0].lower()\n",
    "text_transform = (vectorizer.transform(text))"
   ]
  },
  {
   "cell_type": "code",
   "execution_count": 86,
   "id": "212f383b-130c-429c-9412-86110c025b9d",
   "metadata": {},
   "outputs": [],
   "source": [
    "sgd_predict = (sgd.predict(text_transform))\n",
    "svc_predict = (svc.predict(text_transform))\n",
    "cnb_predict = (cnb.predict(text_transform))\n",
    "gbc_predict = (gbc.predict(text_transform))"
   ]
  },
  {
   "cell_type": "code",
   "execution_count": 87,
   "id": "950c7da5-d3f3-4187-851e-a42a46266a00",
   "metadata": {},
   "outputs": [
    {
     "name": "stdout",
     "output_type": "stream",
     "text": [
      "Education & Teaching\n",
      "Education & Teaching\n",
      "Education & Teaching\n",
      "Education & Teaching\n"
     ]
    }
   ],
   "source": [
    "print(le.inverse_transform(sgd_predict)[0])\n",
    "print(le.inverse_transform(svc_predict)[0])\n",
    "print(le.inverse_transform(cnb_predict)[0])\n",
    "print(le.inverse_transform(gbc_predict)[0])"
   ]
  },
  {
   "cell_type": "code",
   "execution_count": 88,
   "id": "8a5af891-1cfb-4739-a0f3-f79bf2e7877d",
   "metadata": {},
   "outputs": [
    {
     "name": "stdout",
     "output_type": "stream",
     "text": [
      "Model Saved\n"
     ]
    }
   ],
   "source": [
    "dump(le, 'label.pkl')\n",
    "dump(vectorizer, 'vectorizer.pkl')\n",
    "dump(sgd, 'model.pkl')\n",
    "print(\"Model Saved\")"
   ]
  }
 ],
 "metadata": {
  "kernelspec": {
   "display_name": "Python 3 (ipykernel)",
   "language": "python",
   "name": "python3"
  },
  "language_info": {
   "codemirror_mode": {
    "name": "ipython",
    "version": 3
   },
   "file_extension": ".py",
   "mimetype": "text/x-python",
   "name": "python",
   "nbconvert_exporter": "python",
   "pygments_lexer": "ipython3",
   "version": "3.12.2"
  }
 },
 "nbformat": 4,
 "nbformat_minor": 5
}
