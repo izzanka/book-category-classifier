{
 "cells": [
  {
   "cell_type": "code",
   "execution_count": 1,
   "id": "b1335e78-9e3d-4809-9a24-afb806126706",
   "metadata": {},
   "outputs": [],
   "source": [
    "import numpy as np\n",
    "import pandas as pd\n",
    "from sklearn.preprocessing import LabelEncoder\n",
    "from nltk.corpus import stopwords\n",
    "from sklearn.feature_extraction.text import TfidfVectorizer\n",
    "from sklearn.metrics import classification_report, accuracy_score\n",
    "from sklearn.model_selection import train_test_split\n",
    "from joblib import dump, load\n",
    "from sklearn.svm import LinearSVC\n",
    "from sklearn.linear_model import SGDClassifier\n",
    "from sklearn.naive_bayes import MultinomialNB\n",
    "import matplotlib.pyplot as plt\n",
    "import matplotlib.ticker as mtick"
   ]
  },
  {
   "cell_type": "code",
   "execution_count": 2,
   "id": "f74d91cc-34c3-4713-b427-6c3cc5af7478",
   "metadata": {},
   "outputs": [
    {
     "name": "stdout",
     "output_type": "stream",
     "text": [
      "                                                   Title            Category\n",
      "0                            Humans of New York: Stories  Arts & Photography\n",
      "1        Lost Ocean: An Inky Adventure and Coloring Book  Arts & Photography\n",
      "2      Creative Coloring Inspirations: Art Activity P...  Arts & Photography\n",
      "3                                     Humans of New York  Arts & Photography\n",
      "4                        Face Paint: The Story of Makeup  Arts & Photography\n",
      "...                                                  ...                 ...\n",
      "13995               Kaplan New GRE Vocabulary Flashcards    Test Preparation\n",
      "13996  GRE Chemistry Test Secrets Study Guide: GRE Su...    Test Preparation\n",
      "13997  Kaplan GRE Premier 2014 with 6 Practice Tests:...    Test Preparation\n",
      "13998  GRE Biology Test Secrets Study Guide: GRE Subj...    Test Preparation\n",
      "13999                                    GRE For Dummies    Test Preparation\n",
      "\n",
      "[14000 rows x 2 columns]\n"
     ]
    }
   ],
   "source": [
    "limit = 1400\n",
    "\n",
    "# data = pd.read_csv('book-listing-clean.csv')\n",
    "# data = data[~data['Category'].isin(['Health, Fitness & Dieting', 'Medical Books',\n",
    "#                                     'Travel', 'Biographies & Memoirs', 'Crafts, Hobbies & Home','Religion & Spirituality',\n",
    "#                                     'Law', 'Parenting & Relationships',\n",
    "#                                     'Self-Help', 'Sports & Outdoors'])]\n",
    "# grouped = data.groupby('Category')\n",
    "# limited_groups = grouped.apply(lambda x: x.head(limit)).reset_index(drop=True)\n",
    "# limited_groups.to_csv(f\"book-list-{limit}.csv\", index=False)\n",
    "\n",
    "data = pd.read_csv(f'book-list-{limit}.csv')\n",
    "print(data)"
   ]
  },
  {
   "cell_type": "code",
   "execution_count": 3,
   "id": "22be1cf1-d583-4dd1-a018-b46a1f9df46a",
   "metadata": {},
   "outputs": [],
   "source": [
    "title = pd.DataFrame(data['Title'])\n",
    "category = pd.DataFrame(data['Category'])"
   ]
  },
  {
   "cell_type": "code",
   "execution_count": 4,
   "id": "11fd665c-663f-42de-8f19-871c723aa783",
   "metadata": {},
   "outputs": [
    {
     "name": "stdout",
     "output_type": "stream",
     "text": [
      "14000\n",
      "14000\n"
     ]
    }
   ],
   "source": [
    "print(len(title))\n",
    "print(len(category))"
   ]
  },
  {
   "cell_type": "code",
   "execution_count": 5,
   "id": "43a0c611-f286-4cc4-b44f-a5ef1fd7514f",
   "metadata": {},
   "outputs": [
    {
     "data": {
      "text/plain": [
       "Category\n",
       "Arts & Photography              1400\n",
       "Business & Money                1400\n",
       "Computers & Technology          1400\n",
       "Education & Teaching            1400\n",
       "Engineering & Transportation    1400\n",
       "History                         1400\n",
       "Politics & Social Sciences      1400\n",
       "Reference                       1400\n",
       "Science & Math                  1400\n",
       "Test Preparation                1400\n",
       "Name: Title, dtype: int64"
      ]
     },
     "execution_count": 5,
     "metadata": {},
     "output_type": "execute_result"
    }
   ],
   "source": [
    "data.groupby('Category').Title.count()"
   ]
  },
  {
   "cell_type": "code",
   "execution_count": 6,
   "id": "8f67a216-8173-44a8-9127-384a3c507400",
   "metadata": {},
   "outputs": [],
   "source": [
    "feat = ['Category']\n",
    "le = LabelEncoder()\n",
    "for x in feat:\n",
    "    le.fit(list(category[x].values))\n",
    "    category[x] = le.transform(list(category[x]))"
   ]
  },
  {
   "cell_type": "code",
   "execution_count": 7,
   "id": "bb79f2c2-6156-4b99-853b-08c696a60aad",
   "metadata": {},
   "outputs": [
    {
     "data": {
      "text/plain": [
       "array([0, 1, 2, 3, 4, 5, 6, 7, 8, 9])"
      ]
     },
     "execution_count": 7,
     "metadata": {},
     "output_type": "execute_result"
    }
   ],
   "source": [
    "category['Category'].unique()"
   ]
  },
  {
   "cell_type": "code",
   "execution_count": 8,
   "id": "2c1700da-aca3-4b61-bcef-c042579339b6",
   "metadata": {},
   "outputs": [
    {
     "data": {
      "text/plain": [
       "'Arts & Photography'"
      ]
     },
     "execution_count": 8,
     "metadata": {},
     "output_type": "execute_result"
    }
   ],
   "source": [
    "le.inverse_transform([0])[0]"
   ]
  },
  {
   "cell_type": "code",
   "execution_count": 9,
   "id": "1f1f6173-5d8f-4f54-9c2d-59735066aed9",
   "metadata": {},
   "outputs": [
    {
     "name": "stdout",
     "output_type": "stream",
     "text": [
      "(14000, 14282)\n"
     ]
    }
   ],
   "source": [
    "vectorizer = TfidfVectorizer(stop_words='english', analyzer='word', strip_accents='unicode', lowercase=True)\n",
    "vectors = vectorizer.fit_transform(data['Title'])\n",
    "print(vectors.shape)"
   ]
  },
  {
   "cell_type": "code",
   "execution_count": 10,
   "id": "2486311b-cb95-44f3-8852-b36b31f19c24",
   "metadata": {},
   "outputs": [],
   "source": [
    "X_train, X_test, y_train, y_test = train_test_split(vectors, category['Category'], test_size=0.2, train_size=0.8, random_state=0, stratify=category['Category'])"
   ]
  },
  {
   "cell_type": "code",
   "execution_count": 11,
   "id": "741b3315-db37-4f85-847f-612ba8b1d3f0",
   "metadata": {},
   "outputs": [
    {
     "name": "stdout",
     "output_type": "stream",
     "text": [
      "(11200, 14282)\n",
      "(11200,)\n",
      "(2800, 14282)\n",
      "(2800,)\n"
     ]
    }
   ],
   "source": [
    "print(X_train.shape)\n",
    "print(y_train.shape)\n",
    "print(X_test.shape)\n",
    "print(y_test.shape)"
   ]
  },
  {
   "cell_type": "code",
   "execution_count": 12,
   "id": "c982ecf3-03a4-41e5-a7cf-d601c4619c07",
   "metadata": {},
   "outputs": [
    {
     "name": "stdout",
     "output_type": "stream",
     "text": [
      "Classification Report:\n",
      "               precision    recall  f1-score   support\n",
      "\n",
      "           0       0.78      0.76      0.77       280\n",
      "           1       0.77      0.81      0.79       280\n",
      "           2       0.90      0.92      0.91       280\n",
      "           3       0.85      0.77      0.81       280\n",
      "           4       0.79      0.78      0.78       280\n",
      "           5       0.79      0.86      0.82       280\n",
      "           6       0.75      0.79      0.77       280\n",
      "           7       0.81      0.78      0.80       280\n",
      "           8       0.82      0.78      0.80       280\n",
      "           9       0.92      0.92      0.92       280\n",
      "\n",
      "    accuracy                           0.82      2800\n",
      "   macro avg       0.82      0.82      0.82      2800\n",
      "weighted avg       0.82      0.82      0.82      2800\n",
      "\n",
      "CPU times: total: 234 ms\n",
      "Wall time: 236 ms\n"
     ]
    }
   ],
   "source": [
    "%%time\n",
    "\n",
    "lsvc = LinearSVC()\n",
    "lsvc.fit(X_train, y_train)\n",
    "lsvc_pred = lsvc.predict(X_test)\n",
    "print(\"Classification Report:\\n\", classification_report(y_test, lsvc_pred))"
   ]
  },
  {
   "cell_type": "code",
   "execution_count": 15,
   "id": "9bffb4a5-7b85-4950-b0dd-040428323c0d",
   "metadata": {},
   "outputs": [
    {
     "name": "stdout",
     "output_type": "stream",
     "text": [
      "Classification Report:\n",
      "               precision    recall  f1-score   support\n",
      "\n",
      "           0       0.78      0.76      0.77       280\n",
      "           1       0.77      0.81      0.79       280\n",
      "           2       0.87      0.92      0.90       280\n",
      "           3       0.82      0.75      0.79       280\n",
      "           4       0.80      0.80      0.80       280\n",
      "           5       0.73      0.88      0.80       280\n",
      "           6       0.78      0.76      0.77       280\n",
      "           7       0.84      0.77      0.81       280\n",
      "           8       0.85      0.78      0.81       280\n",
      "           9       0.90      0.92      0.91       280\n",
      "\n",
      "    accuracy                           0.81      2800\n",
      "   macro avg       0.82      0.81      0.81      2800\n",
      "weighted avg       0.82      0.81      0.81      2800\n",
      "\n",
      "CPU times: total: 141 ms\n",
      "Wall time: 184 ms\n"
     ]
    }
   ],
   "source": [
    "%%time\n",
    "\n",
    "sgd = SGDClassifier()\n",
    "sgd.fit(X_train, y_train)\n",
    "sgd_pred = sgd.predict(X_test)\n",
    "print(\"Classification Report:\\n\", classification_report(y_test, sgd_pred))"
   ]
  },
  {
   "cell_type": "code",
   "execution_count": 16,
   "id": "eac75fd6-c4f9-4cd6-97a1-56c764e3438e",
   "metadata": {},
   "outputs": [
    {
     "name": "stdout",
     "output_type": "stream",
     "text": [
      "Classification Report:\n",
      "               precision    recall  f1-score   support\n",
      "\n",
      "           0       0.84      0.71      0.77       280\n",
      "           1       0.73      0.75      0.74       280\n",
      "           2       0.85      0.92      0.89       280\n",
      "           3       0.74      0.80      0.77       280\n",
      "           4       0.86      0.76      0.81       280\n",
      "           5       0.77      0.86      0.81       280\n",
      "           6       0.77      0.75      0.76       280\n",
      "           7       0.81      0.75      0.78       280\n",
      "           8       0.82      0.76      0.79       280\n",
      "           9       0.80      0.91      0.85       280\n",
      "\n",
      "    accuracy                           0.80      2800\n",
      "   macro avg       0.80      0.80      0.80      2800\n",
      "weighted avg       0.80      0.80      0.80      2800\n",
      "\n",
      "CPU times: total: 31.2 ms\n",
      "Wall time: 29.5 ms\n"
     ]
    }
   ],
   "source": [
    "%%time\n",
    "\n",
    "mnb = MultinomialNB()\n",
    "mnb.fit(X_train, y_train)\n",
    "mnb_pred = mnb.predict(X_test)\n",
    "print(\"Classification Report:\\n\", classification_report(y_test, mnb_pred))"
   ]
  },
  {
   "cell_type": "code",
   "execution_count": 17,
   "id": "93bf7789-a0d8-4379-bb02-52ef84a1a3d4",
   "metadata": {},
   "outputs": [
    {
     "name": "stdout",
     "output_type": "stream",
     "text": [
      "0.82\n",
      "0.81\n",
      "0.8\n"
     ]
    }
   ],
   "source": [
    "lsvc_accuracy = round(accuracy_score(y_test, lsvc_pred),2)\n",
    "sgd_accuracy = round(accuracy_score(y_test, sgd_pred),2)\n",
    "mnb_accuracy = round(accuracy_score(y_test, mnb_pred),2)\n",
    "\n",
    "print(lsvc_accuracy)\n",
    "print(sgd_accuracy)\n",
    "print(mnb_accuracy)"
   ]
  },
  {
   "cell_type": "code",
   "execution_count": 18,
   "id": "c96ceee3-31dc-472c-8681-1073d10b4a46",
   "metadata": {},
   "outputs": [],
   "source": [
    "models = ['LSVC', 'SGD', 'MNB']\n",
    "scores = [lsvc_accuracy, sgd_accuracy, mnb_accuracy]"
   ]
  },
  {
   "cell_type": "code",
   "execution_count": 19,
   "id": "68034992-4962-4274-8859-7b727b20caf5",
   "metadata": {},
   "outputs": [
    {
     "data": {
      "image/png": "[encoded data removed]",
      "text/plain": [
       "<Figure size 800x600 with 1 Axes>"
      ]
     },
     "metadata": {},
     "output_type": "display_data"
    }
   ],
   "source": [
    "plt.figure(figsize=(8, 6))\n",
    "bars = plt.bar(models, scores, color='skyblue')\n",
    "plt.title('Accuracy Scores of Three Models')\n",
    "plt.xlabel('Models')\n",
    "plt.ylabel('Accuracy Score')\n",
    "plt.ylim(0, 1)\n",
    "plt.gca().yaxis.set_major_formatter(mtick.PercentFormatter(xmax=1))\n",
    "for bar, score in zip(bars, scores):\n",
    "    plt.text(bar.get_x() + bar.get_width() / 2, bar.get_height(), f'{score:.2f}%', \n",
    "             ha='center', va='bottom', color='black')\n",
    "plt.grid(axis='y', linestyle='--', alpha=0.7)\n",
    "plt.show()"
   ]
  },
  {
   "cell_type": "code",
   "execution_count": 20,
   "id": "ce2ba122-c3dc-4897-acc4-ca16ba075a94",
   "metadata": {},
   "outputs": [],
   "source": [
    "text = ['Manual Book']\n",
    "text[0] = text[0].lower()\n",
    "text_transform = (vectorizer.transform(text))"
   ]
  },
  {
   "cell_type": "code",
   "execution_count": 21,
   "id": "212f383b-130c-429c-9412-86110c025b9d",
   "metadata": {},
   "outputs": [],
   "source": [
    "lsvc_predict = (lsvc.predict(text_transform))\n",
    "sgd_predict = (sgd.predict(text_transform))\n",
    "mnb_predict = (mnb.predict(text_transform))"
   ]
  },
  {
   "cell_type": "code",
   "execution_count": 22,
   "id": "950c7da5-d3f3-4187-851e-a42a46266a00",
   "metadata": {},
   "outputs": [
    {
     "name": "stdout",
     "output_type": "stream",
     "text": [
      "LSVC: Reference\n",
      "SGD: Engineering & Transportation\n",
      "MNB: Engineering & Transportation\n"
     ]
    }
   ],
   "source": [
    "print(\"LSVC: \" + le.inverse_transform(lsvc_predict)[0])\n",
    "print(\"SGD: \" + le.inverse_transform(sgd_predict)[0])\n",
    "print(\"MNB: \" + le.inverse_transform(mnb_predict)[0])"
   ]
  },
  {
   "cell_type": "code",
   "execution_count": 23,
   "id": "8a5af891-1cfb-4739-a0f3-f79bf2e7877d",
   "metadata": {},
   "outputs": [
    {
     "name": "stdout",
     "output_type": "stream",
     "text": [
      "Model Saved\n"
     ]
    }
   ],
   "source": [
    "dump(le, 'label.pkl')\n",
    "dump(vectorizer, 'vectorizer.pkl')\n",
    "dump(lsvc, 'model.pkl')\n",
    "print(\"Model Saved\")"
   ]
  }
 ],
 "metadata": {
  "kernelspec": {
   "display_name": "Python 3 (ipykernel)",
   "language": "python",
   "name": "python3"
  },
  "language_info": {
   "codemirror_mode": {
    "name": "ipython",
    "version": 3
   },
   "file_extension": ".py",
   "mimetype": "text/x-python",
   "name": "python",
   "nbconvert_exporter": "python",
   "pygments_lexer": "ipython3",
   "version": "3.12.2"
  }
 },
 "nbformat": 4,
 "nbformat_minor": 5
}
