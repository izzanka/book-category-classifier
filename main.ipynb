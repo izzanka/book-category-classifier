{
 "cells": [
  {
   "cell_type": "code",
   "execution_count": 1,
   "id": "b1335e78-9e3d-4809-9a24-afb806126706",
   "metadata": {},
   "outputs": [],
   "source": [
    "import numpy as np\n",
    "import pandas as pd\n",
    "from sklearn.preprocessing import LabelEncoder\n",
    "from sklearn.feature_extraction.text import TfidfVectorizer\n",
    "from sklearn.metrics import classification_report, accuracy_score\n",
    "from sklearn.model_selection import train_test_split\n",
    "from joblib import dump, load\n",
    "from sklearn.svm import LinearSVC, SVC\n",
    "from sklearn.linear_model import SGDClassifier\n",
    "from sklearn.naive_bayes import MultinomialNB\n",
    "import matplotlib.pyplot as plt\n",
    "import matplotlib.ticker as mtick"
   ]
  },
  {
   "cell_type": "code",
   "execution_count": 2,
   "id": "f74d91cc-34c3-4713-b427-6c3cc5af7478",
   "metadata": {},
   "outputs": [
    {
     "name": "stdout",
     "output_type": "stream",
     "text": [
      "                                                   Title            Category\n",
      "0                            Humans of New York: Stories  Arts & Photography\n",
      "1        Lost Ocean: An Inky Adventure and Coloring Book  Arts & Photography\n",
      "2      Creative Coloring Inspirations: Art Activity P...  Arts & Photography\n",
      "3                                     Humans of New York  Arts & Photography\n",
      "4                        Face Paint: The Story of Makeup  Arts & Photography\n",
      "...                                                  ...                 ...\n",
      "13995  Pass Key to the GRE, 8th Edition (Barron's Pas...    Test Preparation\n",
      "13996  Great Applications for Business School, Second...    Test Preparation\n",
      "13997  Barron's First Year Law School Flash Cards: 35...    Test Preparation\n",
      "13998  How to Write the Perfect Personal Statement: W...    Test Preparation\n",
      "13999  Sterling DAT Biology Practice Questions: High ...    Test Preparation\n",
      "\n",
      "[14000 rows x 2 columns]\n"
     ]
    }
   ],
   "source": [
    "#mengatur limit dari tiap category memiliki berapa title\n",
    "limit = 1400\n",
    "\n",
    "# data = pd.read_csv('book32-listing-clean.csv')\n",
    "# grouped = data.groupby('Category')\n",
    "# limited_groups = grouped.apply(lambda x: x.head(limit)).reset_index(drop=True)\n",
    "# limited_groups.to_csv(f\"book32-listing-clean-{limit}.csv\", index=False)\n",
    "\n",
    "#membaca data dari csv\n",
    "data = pd.read_csv(f'book32-listing-clean-{limit}.csv')\n",
    "print(data)"
   ]
  },
  {
   "cell_type": "code",
   "execution_count": 3,
   "id": "22be1cf1-d583-4dd1-a018-b46a1f9df46a",
   "metadata": {},
   "outputs": [],
   "source": [
    "#membuat DataFrame dari kolom yang sudah ada (title dan category)\n",
    "title = pd.DataFrame(data['Title'])\n",
    "category = pd.DataFrame(data['Category'])"
   ]
  },
  {
   "cell_type": "code",
   "execution_count": 4,
   "id": "11fd665c-663f-42de-8f19-871c723aa783",
   "metadata": {},
   "outputs": [
    {
     "name": "stdout",
     "output_type": "stream",
     "text": [
      "14000\n",
      "14000\n"
     ]
    }
   ],
   "source": [
    "#mengecek panjang tiap DataFrame\n",
    "print(len(title))\n",
    "print(len(category))"
   ]
  },
  {
   "cell_type": "code",
   "execution_count": 5,
   "id": "43a0c611-f286-4cc4-b44f-a5ef1fd7514f",
   "metadata": {},
   "outputs": [
    {
     "data": {
      "text/plain": [
       "Category\n",
       "Arts & Photography              1400\n",
       "Business & Money                1400\n",
       "Computers & Technology          1400\n",
       "Education & Teaching            1400\n",
       "Engineering & Transportation    1400\n",
       "History                         1400\n",
       "Politics & Social Sciences      1400\n",
       "Reference                       1400\n",
       "Science & Math                  1400\n",
       "Test Preparation                1400\n",
       "Name: Title, dtype: int64"
      ]
     },
     "execution_count": 5,
     "metadata": {},
     "output_type": "execute_result"
    }
   ],
   "source": [
    "#menghitung jumlah baris pada kolom title tiap category\n",
    "data.groupby('Category').Title.count()"
   ]
  },
  {
   "cell_type": "code",
   "execution_count": 6,
   "id": "8f67a216-8173-44a8-9127-384a3c507400",
   "metadata": {},
   "outputs": [],
   "source": [
    "#inisialisasi kolom category\n",
    "feat = ['Category']\n",
    "#membuat objek LabelEncoder yang digunakan untuk mengubah sebuah nilai menjadi nilai numerik\n",
    "le = LabelEncoder()\n",
    "#melakukan iterasi untuk setiap kolom category\n",
    "for x in feat:\n",
    "    #mengubah data pada kolom category menjadi list dan mempelajari mapping nilai uniknya dengan nilai numerik \n",
    "    le.fit(list(category[x].values))\n",
    "    #mengubah kolom kategori menjadi nilai numerik berdasarkan mapping yang dipelajari sebelumnya dan disimpan kembali ke kolom category\n",
    "    category[x] = le.transform(list(category[x]))"
   ]
  },
  {
   "cell_type": "code",
   "execution_count": 7,
   "id": "bb79f2c2-6156-4b99-853b-08c696a60aad",
   "metadata": {},
   "outputs": [
    {
     "data": {
      "text/plain": [
       "array([0, 1, 2, 3, 4, 5, 6, 7, 8, 9])"
      ]
     },
     "execution_count": 7,
     "metadata": {},
     "output_type": "execute_result"
    }
   ],
   "source": [
    "#menampilkan data kolom kategori yang unik\n",
    "category['Category'].unique()"
   ]
  },
  {
   "cell_type": "code",
   "execution_count": 8,
   "id": "2c1700da-aca3-4b61-bcef-c042579339b6",
   "metadata": {},
   "outputs": [
    {
     "data": {
      "text/plain": [
       "'Arts & Photography'"
      ]
     },
     "execution_count": 8,
     "metadata": {},
     "output_type": "execute_result"
    }
   ],
   "source": [
    "#mengembalikan nilai kategori yang sesuai dari nilai numerik yang telah diubah sebelumnya menggunakan LabelEncoder\n",
    "le.inverse_transform([0])[0]"
   ]
  },
  {
   "cell_type": "code",
   "execution_count": 9,
   "id": "1f1f6173-5d8f-4f54-9c2d-59735066aed9",
   "metadata": {},
   "outputs": [
    {
     "name": "stdout",
     "output_type": "stream",
     "text": [
      "(14000, 14441)\n"
     ]
    }
   ],
   "source": [
    "#inisialisasi TfidfVectorizer dengan beberapa parameter\n",
    "vectorizer = TfidfVectorizer(stop_words='english', analyzer='word', strip_accents='unicode', lowercase=True)\n",
    "#mempelajari vokabular dari data title dan mengubahnya menjadi representasi vektor TF-IDF\n",
    "vectors = vectorizer.fit_transform(data['Title'])\n",
    "#menampilkan bentuk metrix vector yang menunjukan jumlah baris dan jumlah kolom\n",
    "print(vectors.shape)"
   ]
  },
  {
   "cell_type": "code",
   "execution_count": 10,
   "id": "2486311b-cb95-44f3-8852-b36b31f19c24",
   "metadata": {},
   "outputs": [],
   "source": [
    "#membagi data vector dan target category menjadi data latih dan data uji\n",
    "X_train, X_test, y_train, y_test = train_test_split(vectors, category['Category'], test_size=0.2, train_size=0.8, random_state=0, stratify=category['Category'])"
   ]
  },
  {
   "cell_type": "code",
   "execution_count": 11,
   "id": "741b3315-db37-4f85-847f-612ba8b1d3f0",
   "metadata": {},
   "outputs": [
    {
     "name": "stdout",
     "output_type": "stream",
     "text": [
      "(11200, 14441)\n",
      "(11200,)\n",
      "(2800, 14441)\n",
      "(2800,)\n"
     ]
    }
   ],
   "source": [
    "#menampilkan bentuk metrix\n",
    "print(X_train.shape)\n",
    "print(y_train.shape)\n",
    "print(X_test.shape)\n",
    "print(y_test.shape)"
   ]
  },
  {
   "cell_type": "code",
   "execution_count": 14,
   "id": "c982ecf3-03a4-41e5-a7cf-d601c4619c07",
   "metadata": {},
   "outputs": [
    {
     "name": "stdout",
     "output_type": "stream",
     "text": [
      "Classification Report:\n",
      "               precision    recall  f1-score   support\n",
      "\n",
      "           0       0.73      0.75      0.74       280\n",
      "           1       0.77      0.82      0.79       280\n",
      "           2       0.94      0.83      0.88       280\n",
      "           3       0.81      0.75      0.78       280\n",
      "           4       0.81      0.79      0.80       280\n",
      "           5       0.75      0.87      0.80       280\n",
      "           6       0.75      0.78      0.77       280\n",
      "           7       0.84      0.74      0.79       280\n",
      "           8       0.70      0.81      0.75       280\n",
      "           9       0.95      0.86      0.91       280\n",
      "\n",
      "    accuracy                           0.80      2800\n",
      "   macro avg       0.81      0.80      0.80      2800\n",
      "weighted avg       0.81      0.80      0.80      2800\n",
      "\n",
      "CPU times: total: 19.4 s\n",
      "Wall time: 19.5 s\n"
     ]
    }
   ],
   "source": [
    "%%time\n",
    "\n",
    "#inialisasi model LinearSVC\n",
    "lsvc = LinearSVC()\n",
    "#melatih model menggunakan data latih\n",
    "lsvc.fit(X_train, y_train)\n",
    "#membuat prediksi menggunakan model yang telah dilatih pada data uji\n",
    "lsvc_pred = lsvc.predict(X_test)\n",
    "#menampilkan laporan evaluasi klasifikasi\n",
    "print(\"Classification Report:\\n\", classification_report(y_test, lsvc_pred))"
   ]
  },
  {
   "cell_type": "code",
   "execution_count": 106,
   "id": "9bffb4a5-7b85-4950-b0dd-040428323c0d",
   "metadata": {},
   "outputs": [
    {
     "name": "stdout",
     "output_type": "stream",
     "text": [
      "Classification Report:\n",
      "               precision    recall  f1-score   support\n",
      "\n",
      "           0       0.75      0.74      0.75       280\n",
      "           1       0.75      0.79      0.77       280\n",
      "           2       0.86      0.90      0.88       280\n",
      "           3       0.79      0.75      0.77       280\n",
      "           4       0.83      0.81      0.82       280\n",
      "           5       0.76      0.86      0.80       280\n",
      "           6       0.76      0.76      0.76       280\n",
      "           7       0.83      0.74      0.78       280\n",
      "           8       0.79      0.78      0.79       280\n",
      "           9       0.91      0.90      0.91       280\n",
      "\n",
      "    accuracy                           0.80      2800\n",
      "   macro avg       0.80      0.80      0.80      2800\n",
      "weighted avg       0.80      0.80      0.80      2800\n",
      "\n",
      "CPU times: total: 141 ms\n",
      "Wall time: 163 ms\n"
     ]
    }
   ],
   "source": [
    "%%time\n",
    "\n",
    "sgd = SGDClassifier()\n",
    "sgd.fit(X_train, y_train)\n",
    "sgd_pred = sgd.predict(X_test)\n",
    "print(\"Classification Report:\\n\", classification_report(y_test, sgd_pred))"
   ]
  },
  {
   "cell_type": "code",
   "execution_count": 107,
   "id": "eac75fd6-c4f9-4cd6-97a1-56c764e3438e",
   "metadata": {},
   "outputs": [
    {
     "name": "stdout",
     "output_type": "stream",
     "text": [
      "Classification Report:\n",
      "               precision    recall  f1-score   support\n",
      "\n",
      "           0       0.78      0.68      0.73       280\n",
      "           1       0.74      0.78      0.76       280\n",
      "           2       0.84      0.88      0.86       280\n",
      "           3       0.73      0.80      0.76       280\n",
      "           4       0.85      0.76      0.80       280\n",
      "           5       0.76      0.86      0.81       280\n",
      "           6       0.78      0.76      0.77       280\n",
      "           7       0.79      0.71      0.75       280\n",
      "           8       0.82      0.76      0.79       280\n",
      "           9       0.83      0.92      0.87       280\n",
      "\n",
      "    accuracy                           0.79      2800\n",
      "   macro avg       0.79      0.79      0.79      2800\n",
      "weighted avg       0.79      0.79      0.79      2800\n",
      "\n",
      "CPU times: total: 31.2 ms\n",
      "Wall time: 27.8 ms\n"
     ]
    }
   ],
   "source": [
    "%%time\n",
    "\n",
    "mnb = MultinomialNB()\n",
    "mnb.fit(X_train, y_train)\n",
    "mnb_pred = mnb.predict(X_test)\n",
    "print(\"Classification Report:\\n\", classification_report(y_test, mnb_pred))"
   ]
  },
  {
   "cell_type": "code",
   "execution_count": 108,
   "id": "93bf7789-a0d8-4379-bb02-52ef84a1a3d4",
   "metadata": {},
   "outputs": [
    {
     "name": "stdout",
     "output_type": "stream",
     "text": [
      "0.81\n",
      "0.8\n",
      "0.79\n"
     ]
    }
   ],
   "source": [
    "lsvc_accuracy = round(accuracy_score(y_test, lsvc_pred),2)\n",
    "sgd_accuracy = round(accuracy_score(y_test, sgd_pred),2)\n",
    "mnb_accuracy = round(accuracy_score(y_test, mnb_pred),2)\n",
    "\n",
    "print(lsvc_accuracy)\n",
    "print(sgd_accuracy)\n",
    "print(mnb_accuracy)"
   ]
  },
  {
   "cell_type": "code",
   "execution_count": 109,
   "id": "c96ceee3-31dc-472c-8681-1073d10b4a46",
   "metadata": {},
   "outputs": [],
   "source": [
    "models = ['LSVC', 'SGD', 'MNB']\n",
    "scores = [lsvc_accuracy, sgd_accuracy, mnb_accuracy]"
   ]
  },
  {
   "cell_type": "code",
   "execution_count": 110,
   "id": "68034992-4962-4274-8859-7b727b20caf5",
   "metadata": {},
   "outputs": [
    {
     "data": {
      "image/png": "[encoded data removed]",
      "text/plain": [
       "<Figure size 800x600 with 1 Axes>"
      ]
     },
     "metadata": {},
     "output_type": "display_data"
    }
   ],
   "source": [
    "plt.figure(figsize=(8, 6))\n",
    "bars = plt.bar(models, scores, color='skyblue')\n",
    "plt.title('Accuracy Scores of Three Models')\n",
    "plt.xlabel('Models')\n",
    "plt.ylabel('Accuracy Score')\n",
    "plt.ylim(0, 1)\n",
    "plt.gca().yaxis.set_major_formatter(mtick.PercentFormatter(xmax=1))\n",
    "for bar, score in zip(bars, scores):\n",
    "    plt.text(bar.get_x() + bar.get_width() / 2, bar.get_height(), f'{score:.2f}%', \n",
    "             ha='center', va='bottom', color='black')\n",
    "plt.grid(axis='y', linestyle='--', alpha=0.7)\n",
    "plt.show()"
   ]
  },
  {
   "cell_type": "code",
   "execution_count": 111,
   "id": "ce2ba122-c3dc-4897-acc4-ca16ba075a94",
   "metadata": {},
   "outputs": [],
   "source": [
    "text = ['Manual Book']\n",
    "text[0] = text[0].lower()\n",
    "text_transform = (vectorizer.transform(text))"
   ]
  },
  {
   "cell_type": "code",
   "execution_count": 112,
   "id": "212f383b-130c-429c-9412-86110c025b9d",
   "metadata": {},
   "outputs": [],
   "source": [
    "lsvc_predict = (lsvc.predict(text_transform))\n",
    "sgd_predict = (sgd.predict(text_transform))\n",
    "mnb_predict = (mnb.predict(text_transform))"
   ]
  },
  {
   "cell_type": "code",
   "execution_count": 113,
   "id": "950c7da5-d3f3-4187-851e-a42a46266a00",
   "metadata": {},
   "outputs": [
    {
     "name": "stdout",
     "output_type": "stream",
     "text": [
      "LSVC: Reference\n",
      "SGD: Reference\n",
      "MNB: Engineering & Transportation\n"
     ]
    }
   ],
   "source": [
    "print(\"LSVC: \" + le.inverse_transform(lsvc_predict)[0])\n",
    "print(\"SGD: \" + le.inverse_transform(sgd_predict)[0])\n",
    "print(\"MNB: \" + le.inverse_transform(mnb_predict)[0])"
   ]
  },
  {
   "cell_type": "code",
   "execution_count": 114,
   "id": "8a5af891-1cfb-4739-a0f3-f79bf2e7877d",
   "metadata": {},
   "outputs": [
    {
     "name": "stdout",
     "output_type": "stream",
     "text": [
      "Model Saved\n"
     ]
    }
   ],
   "source": [
    "#menyimpan data dan model terbaik\n",
    "dump(le, 'label.pkl')\n",
    "dump(vectorizer, 'vectorizer.pkl')\n",
    "dump(lsvc, 'model.pkl')\n",
    "print(\"Model Saved\")"
   ]
  }
 ],
 "metadata": {
  "kernelspec": {
   "display_name": "Python 3 (ipykernel)",
   "language": "python",
   "name": "python3"
  },
  "language_info": {
   "codemirror_mode": {
    "name": "ipython",
    "version": 3
   },
   "file_extension": ".py",
   "mimetype": "text/x-python",
   "name": "python",
   "nbconvert_exporter": "python",
   "pygments_lexer": "ipython3",
   "version": "3.12.2"
  }
 },
 "nbformat": 4,
 "nbformat_minor": 5
}
